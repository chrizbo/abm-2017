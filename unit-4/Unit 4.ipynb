{
 "cells": [
  {
   "cell_type": "code",
   "execution_count": 42,
   "metadata": {
    "collapsed": true,
    "scrolled": false
   },
   "outputs": [],
   "source": [
    "import pandas as pd\n",
    "import numpy as np\n",
    "import matplotlib.pyplot as plt\n",
    "%matplotlib inline"
   ]
  },
  {
   "cell_type": "code",
   "execution_count": 99,
   "metadata": {
    "scrolled": false
   },
   "outputs": [],
   "source": [
    "data_frame = pandas.read_csv(\"Diffusion-chrizbo-social-influence-experiment-table.csv\", \n",
    "                             header=6, \n",
    "                             names=[\"run\", \n",
    "                                    \"num-agents\", \n",
    "                                    \"network\", \n",
    "                                    \"social_influence\", \n",
    "                                    \"broadcast_influence\", \n",
    "                                    \"step\", \n",
    "                                    \"adoptions\", \n",
    "                                    \"regular_adoptions\", \n",
    "                                    \"influencer_adoptions\"])"
   ]
  },
  {
   "cell_type": "code",
   "execution_count": 100,
   "metadata": {
    "scrolled": false
   },
   "outputs": [
    {
     "data": {
      "text/html": [
       "<div>\n",
       "<style>\n",
       "    .dataframe thead tr:only-child th {\n",
       "        text-align: right;\n",
       "    }\n",
       "\n",
       "    .dataframe thead th {\n",
       "        text-align: left;\n",
       "    }\n",
       "\n",
       "    .dataframe tbody tr th {\n",
       "        vertical-align: top;\n",
       "    }\n",
       "</style>\n",
       "<table border=\"1\" class=\"dataframe\">\n",
       "  <thead>\n",
       "    <tr style=\"text-align: right;\">\n",
       "      <th></th>\n",
       "      <th>run</th>\n",
       "      <th>num-agents</th>\n",
       "      <th>network</th>\n",
       "      <th>social_influence</th>\n",
       "      <th>broadcast_influence</th>\n",
       "      <th>step</th>\n",
       "      <th>adoptions</th>\n",
       "      <th>regular_adoptions</th>\n",
       "      <th>influencer_adoptions</th>\n",
       "    </tr>\n",
       "  </thead>\n",
       "  <tbody>\n",
       "    <tr>\n",
       "      <th>0</th>\n",
       "      <td>3</td>\n",
       "      <td>100</td>\n",
       "      <td>\"random\"</td>\n",
       "      <td>0.1</td>\n",
       "      <td>0.05</td>\n",
       "      <td>0</td>\n",
       "      <td>0</td>\n",
       "      <td>0</td>\n",
       "      <td>0</td>\n",
       "    </tr>\n",
       "    <tr>\n",
       "      <th>1</th>\n",
       "      <td>4</td>\n",
       "      <td>100</td>\n",
       "      <td>\"random\"</td>\n",
       "      <td>0.1</td>\n",
       "      <td>0.05</td>\n",
       "      <td>0</td>\n",
       "      <td>0</td>\n",
       "      <td>0</td>\n",
       "      <td>0</td>\n",
       "    </tr>\n",
       "    <tr>\n",
       "      <th>2</th>\n",
       "      <td>1</td>\n",
       "      <td>100</td>\n",
       "      <td>\"random\"</td>\n",
       "      <td>0.1</td>\n",
       "      <td>0.05</td>\n",
       "      <td>0</td>\n",
       "      <td>0</td>\n",
       "      <td>0</td>\n",
       "      <td>0</td>\n",
       "    </tr>\n",
       "    <tr>\n",
       "      <th>3</th>\n",
       "      <td>4</td>\n",
       "      <td>100</td>\n",
       "      <td>\"random\"</td>\n",
       "      <td>0.1</td>\n",
       "      <td>0.05</td>\n",
       "      <td>1</td>\n",
       "      <td>5</td>\n",
       "      <td>5</td>\n",
       "      <td>0</td>\n",
       "    </tr>\n",
       "    <tr>\n",
       "      <th>4</th>\n",
       "      <td>3</td>\n",
       "      <td>100</td>\n",
       "      <td>\"random\"</td>\n",
       "      <td>0.1</td>\n",
       "      <td>0.05</td>\n",
       "      <td>1</td>\n",
       "      <td>7</td>\n",
       "      <td>6</td>\n",
       "      <td>1</td>\n",
       "    </tr>\n",
       "  </tbody>\n",
       "</table>\n",
       "</div>"
      ],
      "text/plain": [
       "   run  num-agents   network  social_influence  broadcast_influence  step  \\\n",
       "0    3         100  \"random\"               0.1                 0.05     0   \n",
       "1    4         100  \"random\"               0.1                 0.05     0   \n",
       "2    1         100  \"random\"               0.1                 0.05     0   \n",
       "3    4         100  \"random\"               0.1                 0.05     1   \n",
       "4    3         100  \"random\"               0.1                 0.05     1   \n",
       "\n",
       "   adoptions  regular_adoptions  influencer_adoptions  \n",
       "0          0                  0                     0  \n",
       "1          0                  0                     0  \n",
       "2          0                  0                     0  \n",
       "3          5                  5                     0  \n",
       "4          7                  6                     1  "
      ]
     },
     "execution_count": 100,
     "metadata": {},
     "output_type": "execute_result"
    }
   ],
   "source": [
    "data_frame.head()"
   ]
  },
  {
   "cell_type": "code",
   "execution_count": 174,
   "metadata": {},
   "outputs": [
    {
     "data": {
      "text/plain": [
       "<matplotlib.axes._subplots.AxesSubplot at 0x1113e9a58>"
      ]
     },
     "execution_count": 174,
     "metadata": {},
     "output_type": "execute_result"
    },
    {
     "data": {
      "image/png": "[encoded data removed]",
      "text/plain": [
       "<matplotlib.figure.Figure at 0x111546e80>"
      ]
     },
     "metadata": {},
     "output_type": "display_data"
    }
   ],
   "source": [
    "plt.ylabel('adoptions')\n",
    "data_frame[data_frame.social_influence == 0.1].groupby([\"step\"])['adoptions'].mean().plot()\n",
    "data_frame[data_frame.social_influence == 0.3].groupby([\"step\"])['adoptions'].mean().plot()\n",
    "data_frame[data_frame.social_influence == 0.5].groupby([\"step\"])['adoptions'].mean().plot()\n",
    "data_frame[data_frame.social_influence == 0.7].groupby([\"step\"])['adoptions'].mean().plot()\n",
    "data_frame[data_frame.social_influence == 0.9].groupby([\"step\"])['adoptions'].mean().plot()"
   ]
  },
  {
   "cell_type": "code",
   "execution_count": null,
   "metadata": {
    "collapsed": true
   },
   "outputs": [],
   "source": []
  }
 ],
 "metadata": {
  "kernelspec": {
   "display_name": "Python 3",
   "language": "python",
   "name": "python3"
  },
  "language_info": {
   "codemirror_mode": {
    "name": "ipython",
    "version": 3
   },
   "file_extension": ".py",
   "mimetype": "text/x-python",
   "name": "python",
   "nbconvert_exporter": "python",
   "pygments_lexer": "ipython3",
   "version": "3.6.1"
  }
 },
 "nbformat": 4,
 "nbformat_minor": 2
}
